{
 "cells": [
  {
   "attachments": {},
   "cell_type": "markdown",
   "metadata": {},
   "source": [
    "# Метод простых итераций\n",
    "Программа использует пакет символьных вычислений **Sympy** для Python и проводит следующие этапы МПИ:\n",
    " - Поиск коэффициента сжатия для выбранной рекурсивной функции &#966;(x)\n",
    " - Оценка необходимого числа итераций\n",
    " - Проведение итерации\n",
    "\n",
    "От пользователя требуется ввести:\n",
    " - Исходное уравнение\n",
    " - Выбранную рекурсивную функцию\n",
    " - Промежуток, на котором выполняется поиск корней\n",
    " - Необходимая точность"
   ]
  },
  {
   "cell_type": "code",
   "execution_count": 152,
   "metadata": {},
   "outputs": [],
   "source": [
    "from sympy import *\n",
    "# Create a \"symbol\" called x\n",
    "x = Symbol('x', real = true)"
   ]
  },
  {
   "attachments": {},
   "cell_type": "markdown",
   "metadata": {},
   "source": [
    "### Задайте уравнение и выбранную &#934;(x)"
   ]
  },
  {
   "cell_type": "code",
   "execution_count": 153,
   "metadata": {},
   "outputs": [
    {
     "data": {
      "text/latex": [
       "$\\displaystyle - \\sqrt{1 - 4 \\sin{\\left(x \\right)}}$"
      ],
      "text/plain": [
       "-sqrt(1 - 4*sin(x))"
      ]
     },
     "execution_count": 153,
     "metadata": {},
     "output_type": "execute_result"
    }
   ],
   "source": [
    "#Define function\n",
    "f = x**2 + 4*sin(x) - 1\n",
    " \n",
    "#Define Phi function \n",
    "phi = -(sqrt(1-4*sin(x)))\n",
    "#phi = asin((1-x**2)/4)\n",
    "\n",
    "phi"
   ]
  },
  {
   "attachments": {},
   "cell_type": "markdown",
   "metadata": {},
   "source": [
    "### Вычисление &#934;'(x)"
   ]
  },
  {
   "cell_type": "code",
   "execution_count": 154,
   "metadata": {},
   "outputs": [
    {
     "data": {
      "text/latex": [
       "$\\displaystyle \\frac{2 \\cos{\\left(x \\right)}}{\\sqrt{1 - 4 \\sin{\\left(x \\right)}}}$"
      ],
      "text/plain": [
       "2*cos(x)/sqrt(1 - 4*sin(x))"
      ]
     },
     "execution_count": 154,
     "metadata": {},
     "output_type": "execute_result"
    }
   ],
   "source": [
    "#Calculating Derivative\n",
    "derivative_phi = phi.diff(x)\n",
    "\n",
    "derivative_phi"
   ]
  },
  {
   "attachments": {},
   "cell_type": "markdown",
   "metadata": {},
   "source": [
    "### Вычисление &#934;\"(x)"
   ]
  },
  {
   "cell_type": "code",
   "execution_count": 155,
   "metadata": {},
   "outputs": [
    {
     "data": {
      "text/latex": [
       "$\\displaystyle - \\frac{2 \\sin{\\left(x \\right)}}{\\sqrt{1 - 4 \\sin{\\left(x \\right)}}} + \\frac{4 \\cos^{2}{\\left(x \\right)}}{\\left(1 - 4 \\sin{\\left(x \\right)}\\right)^{\\frac{3}{2}}}$"
      ],
      "text/plain": [
       "-2*sin(x)/sqrt(1 - 4*sin(x)) + 4*cos(x)**2/(1 - 4*sin(x))**(3/2)"
      ]
     },
     "execution_count": 155,
     "metadata": {},
     "output_type": "execute_result"
    }
   ],
   "source": [
    "#Calculating second deriative\n",
    "derivative_phi2 = derivative_phi.diff(x)\n",
    "\n",
    "derivative_phi2"
   ]
  },
  {
   "attachments": {},
   "cell_type": "markdown",
   "metadata": {},
   "source": [
    "### Поиск точек экстремума функции &#934;'(x) с помощью  &#934;\"(x)"
   ]
  },
  {
   "cell_type": "code",
   "execution_count": 156,
   "metadata": {},
   "outputs": [
    {
     "data": {
      "text/latex": [
       "$\\displaystyle \\emptyset$"
      ],
      "text/plain": [
       "EmptySet"
      ]
     },
     "execution_count": 156,
     "metadata": {},
     "output_type": "execute_result"
    }
   ],
   "source": [
    "#Checking on phi's extremum points\n",
    "points = solveset(derivative_phi2, x, domain = Reals)\n",
    "\n",
    "points"
   ]
  },
  {
   "attachments": {},
   "cell_type": "markdown",
   "metadata": {},
   "source": [
    "### Поиск &#120572; на отрезке [*a*,*b*]\n",
    "**Пожалуйста, укажите a и b:**"
   ]
  },
  {
   "cell_type": "code",
   "execution_count": 157,
   "metadata": {},
   "outputs": [
    {
     "data": {
      "text/latex": [
       "$\\displaystyle 0.72$"
      ],
      "text/plain": [
       "0.72"
      ]
     },
     "execution_count": 157,
     "metadata": {},
     "output_type": "execute_result"
    }
   ],
   "source": [
    "#Set bounds\n",
    "#===INPUT THIS DATA YOURSELF===\n",
    "a = N(-(3/4*pi))\n",
    "b = N(-(2/3*pi))\n",
    "#==============================\n",
    "\n",
    "phiExec = lambdify(x, derivative_phi, 'sympy')\n",
    "if len(points) == 0:\n",
    "    alpha = max(abs(phiExec(a)), abs(phiExec(b)) ).round(2)\n",
    "else:\n",
    "    alpha = max(abs(phiExec(a)), abs(phiExec(b)), abs((points).sup).round(2))\n",
    "\n",
    "alpha"
   ]
  },
  {
   "attachments": {},
   "cell_type": "markdown",
   "metadata": {},
   "source": [
    "### Расчет необходимого количества итераций с помощью формулы:\n",
    "### &#120572;<sup>n</sup> * &#961;(x<sub>0</sub>, x<sub>1</sub>) * <sup>1</sup>&frasl;<sub>1-&#120572;</sub> < &#949;\n",
    "\n",
    "**Пожалуйста, укажите &#949; как значение переменной *accuracy*:**"
   ]
  },
  {
   "cell_type": "code",
   "execution_count": 158,
   "metadata": {},
   "outputs": [
    {
     "name": "stdout",
     "output_type": "stream",
     "text": [
      "n > 12.6863808014242\n",
      "n = 12\n"
     ]
    }
   ],
   "source": [
    "#===INPUT THIS DATA YOURSELF===\n",
    "accuracy = 1e-2\n",
    "#==============================\n",
    "\n",
    "x0 = (a+b)/2\n",
    "\n",
    "#Calculating number of iterations\n",
    "u = Symbol('u', real = true)\n",
    "v = Symbol('v', real = true)\n",
    "\n",
    "ro = lambdify([u, v], abs(u-v))\n",
    "\n",
    "reccurent = lambdify(x, phi, 'sympy')\n",
    "\n",
    "x1 = reccurent(x0)\n",
    "\n",
    "n = Symbol('n', real = true)\n",
    "\n",
    "ineq = n > (log(accuracy /(ro(x0,x1).evalf(3)*(1/(1-alpha))), alpha))\n",
    "print(ineq)\n",
    "\n",
    "numOfIters = Integer(solveset(ineq, n, Reals).inf.round(1))\n",
    "print(\"n =\", numOfIters)"
   ]
  },
  {
   "attachments": {},
   "cell_type": "markdown",
   "metadata": {},
   "source": [
    "### Проведение итераций с использованием рекурсивной формулы x = &#934;(x)"
   ]
  },
  {
   "cell_type": "code",
   "execution_count": 159,
   "metadata": {},
   "outputs": [
    {
     "name": "stdout",
     "output_type": "stream",
     "text": [
      "1 : -2.043\n",
      "2 : -2.136\n",
      "3 : -2.092\n",
      "4 : -2.114\n",
      "5 : -2.103\n",
      "6 : -2.109\n",
      "7 : -2.106\n",
      "8 : -2.107\n",
      "9 : -2.107\n",
      "10 : -2.107\n",
      "11 : -2.107\n",
      "12 : -2.107\n",
      "The root is: -2.107\n"
     ]
    }
   ],
   "source": [
    "#Iterating with recursive formula\n",
    "reccurent = lambdify(x, phi, 'sympy')\n",
    "xN = x0\n",
    "for i in range(0,numOfIters):\n",
    "    xN = reccurent(xN).evalf(abs(log(accuracy/100, 10)))\n",
    "    print(i+1, \":\", xN)\n",
    "else:\n",
    "    print(\"The root is:\", xN)"
   ]
  },
  {
   "attachments": {},
   "cell_type": "markdown",
   "metadata": {},
   "source": [
    "### Подстановка полученного корня в исходное уравнение"
   ]
  },
  {
   "cell_type": "code",
   "execution_count": 160,
   "metadata": {},
   "outputs": [
    {
     "name": "stdout",
     "output_type": "stream",
     "text": [
      "0.0000305200\n"
     ]
    }
   ],
   "source": [
    "print(\"{:.10f}\".format(f.subs(x, xN)))"
   ]
  }
 ],
 "metadata": {
  "kernelspec": {
   "display_name": "Python 3",
   "language": "python",
   "name": "python3"
  },
  "language_info": {
   "codemirror_mode": {
    "name": "ipython",
    "version": 3
   },
   "file_extension": ".py",
   "mimetype": "text/x-python",
   "name": "python",
   "nbconvert_exporter": "python",
   "pygments_lexer": "ipython3",
   "version": "3.11.3"
  },
  "orig_nbformat": 4
 },
 "nbformat": 4,
 "nbformat_minor": 2
}
